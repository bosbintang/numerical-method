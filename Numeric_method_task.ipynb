{
  "nbformat": 4,
  "nbformat_minor": 0,
  "metadata": {
    "colab": {
      "provenance": [],
      "include_colab_link": true
    },
    "kernelspec": {
      "name": "python3",
      "display_name": "Python 3"
    }
  },
  "cells": [
    {
      "cell_type": "markdown",
      "metadata": {
        "id": "view-in-github",
        "colab_type": "text"
      },
      "source": [
        "<a href=\"https://colab.research.google.com/github/bosbintang/numerical-method/blob/main/Numeric_method_task.ipynb\" target=\"_parent\"><img src=\"https://colab.research.google.com/assets/colab-badge.svg\" alt=\"Open In Colab\"/></a>"
      ]
    },
    {
      "cell_type": "code",
      "metadata": {
        "id": "xBWpn4G_oNt-",
        "outputId": "ba172990-e330-40ff-ccca-cfc162dc61bb",
        "colab": {
          "base_uri": "https://localhost:8080/",
          "height": 70
        }
      },
      "source": [
        "import math\n",
        "import numpy as np\n",
        "from numpy import linalg as LA\n",
        "\n",
        "A = np.array([[3, 1, 1], [1, 5, 1], [1, 1, 3]])\n",
        "B1 = np.array([[1], [1], [1]])\n",
        "B2 = np.array([[0], [1], [0]])\n",
        "B3 = np.array([[1], [0], [0]])\n",
        "\n",
        "for i in range(20):\n",
        "  C1 = np.dot(A,B1)\n",
        "  D1 = LA.norm(C1)\n",
        "  B1 = C1/D1\n",
        "  \n",
        "  C2 = np.dot(A,B2)\n",
        "  D2 = LA.norm(C2)\n",
        "  B2 = C2/D2\n",
        "\n",
        "  C3 = np.dot(A,B3)\n",
        "  D3 = LA.norm(C3)\n",
        "  B3 = C3/D3\n",
        "  \n",
        "print(B1.transpose())\n",
        "print(B2.transpose())\n",
        "print(B3.transpose())"
      ],
      "execution_count": null,
      "outputs": [
        {
          "output_type": "stream",
          "text": [
            "[[0.40824849 0.81649639 0.40824849]]\n",
            "[[0.4082479  0.81649697 0.4082479 ]]\n",
            "[[0.40824907 0.8164958  0.40824907]]\n"
          ],
          "name": "stdout"
        }
      ]
    },
    {
      "cell_type": "code",
      "metadata": {
        "id": "PiLKDVG9wdlW"
      },
      "source": [
        "import math\n",
        "import numpy as np\n",
        "\n",
        "a=100\n",
        "N=10\n",
        "init=np.zeros((N,1))\n",
        "A=np.zeros((N,N))\n",
        "B=init+2\n",
        "for i in range(N+1):\n",
        "  B[i-1]=(i/N)*math.sin(math.pi*i/N)\n",
        "  for j in range(N+1):\n",
        "    if i==j:\n",
        "      A[i-1,j-1]=a+2*N**2\n",
        "    elif abs(i-j)==1:\n",
        "      A[i-1,j-1]=-N**2\n",
        "    else:\n",
        "      A[i-1,j-1]=0\n",
        "\n",
        "for i in range(N+1):\n",
        "  for j in range(N+1):\n",
        "    B[i+1]=A[i,j]*B[i]\n",
        "\n",
        "print(A)\n",
        "print(B)"
      ],
      "execution_count": null,
      "outputs": []
    },
    {
      "cell_type": "code",
      "metadata": {
        "id": "f6v6RkEmCwvn",
        "outputId": "e624c7de-47ec-439c-e3ff-4994354b7433",
        "colab": {
          "base_uri": "https://localhost:8080/",
          "height": 35
        }
      },
      "source": [
        "import math\n",
        "import numpy as np\n",
        "from numpy import linalg as LA\n",
        "\n",
        "a=100\n",
        "N=10\n",
        "\n",
        "D=np.zeros((N-1,N-1))\n",
        "E=np.zeros((N-1,N-1))\n",
        "\n",
        "b=np.zeros((N-1,1))\n",
        "x=np.zeros((N-1,1))\n",
        "y=np.zeros((N-1,1))\n",
        "g=np.zeros((N-1,1))\n",
        "for i in range(N-1):\n",
        "  b[i]=(i/N)*math.sin(math.pi*i/N)\n",
        "  for j in range(N-1):\n",
        "    if i==j:\n",
        "      D[i,j]=a+2*(N**2)\n",
        "    elif abs(i-j)==1:\n",
        "      E[i,j]=-N**2\n",
        "d=LA.inv(D)\n",
        "\n",
        "err=10\n",
        "for m in range(1000):\n",
        "  for i in range(N-1):\n",
        "     for j in range(N-1):\n",
        "       g[j]=(b[j]-np.dot(E[j],x))\n",
        "   \n",
        "     for k in range(N-1):\n",
        "       x[k]=np.dot(d[k],g)\n",
        "  err=np.max(np.abs(x-y))\n",
        "  if err>10**-6:\n",
        "    y=x\n",
        "  else:\n",
        "    break\n",
        " \n",
        "print('Number of iteration ',m)\n"
      ],
      "execution_count": null,
      "outputs": [
        {
          "output_type": "stream",
          "text": [
            "Number of iteration  1\n"
          ],
          "name": "stdout"
        }
      ]
    },
    {
      "cell_type": "code",
      "metadata": {
        "id": "PR4VlZkye1tL",
        "colab": {
          "base_uri": "https://localhost:8080/",
          "height": 35
        },
        "outputId": "b79403ef-de2c-460b-aeff-7a72c4b6b791"
      },
      "source": [
        "import math\n",
        "import numpy as np\n",
        "from numpy import linalg as LA\n",
        "\n",
        "a=100\n",
        "N=10\n",
        "\n",
        "D=np.zeros((N-1,N-1))\n",
        "E=np.zeros((N-1,N-1))\n",
        "\n",
        "b=np.zeros((N-1,1))\n",
        "x=np.zeros((N-1,1))\n",
        "y=np.zeros((N-1,1))\n",
        "g=np.zeros((N-1,1))\n",
        "for i in range(N-1):\n",
        "  b[i]=(i/N)*math.sin(math.pi*i/N)\n",
        "  for j in range(N-1):\n",
        "    if i==j:\n",
        "      D[i,j]=a+2*N**2\n",
        "    elif abs(i-j)==1:\n",
        "      E[i,j]=-N**2\n",
        "d=LA.inv(D)\n",
        "for m in range(1000):  \n",
        "  for i in range(N-1):\n",
        "     for j in range(N-1):\n",
        "       g[j]=(b[j]-np.dot(E[j],x)) \n",
        "       x[j]=np.dot(d[j],g)\n",
        "  err=np.max(np.abs(x-y))\n",
        "  \n",
        "  if err>10**-6:\n",
        "    y=x\n",
        "  else:\n",
        "    break\n",
        "print('Number of iteration:',m)\n"
      ],
      "execution_count": null,
      "outputs": [
        {
          "output_type": "stream",
          "text": [
            "Number of iteration: 1\n"
          ],
          "name": "stdout"
        }
      ]
    },
    {
      "cell_type": "markdown",
      "metadata": {
        "id": "11BUPPvTMPZ1"
      },
      "source": [
        "import math\n",
        "import numpy as np\n",
        "from numpy import linalg as LA\n",
        "\n",
        "a=100\n",
        "N=10\n",
        "#N=100\n",
        "\n",
        "A=np.zeros((N-1,N-1))\n",
        "\n",
        "\n",
        "b=np.zeros((N-1,1))\n",
        "\n",
        "\n",
        "for i in range(N-1):\n",
        "  b[i]=(i/N)*math.sin(math.pi*i/N)\n",
        "  for j in range(N-1):\n",
        "    if i==j:\n",
        "      A[i,j]=a+2*N**2\n",
        "    elif abs(i-j)==1:\n",
        "      A[i,j]=-N**2\n",
        "D=np.diag(np.diag(A))\n",
        "d=LA.inv(D)\n",
        "EF=A-D\n",
        "#Jacobi method\n",
        "x=np.zeros((N-1,1))\n",
        "for i in range(1000):\n",
        "  xj=np.dot(d,b-np.dot(EF,x))\n",
        "  err=LA.norm(xnew-x)\n",
        "  if err>10**-6:\n",
        "    x=xnew      \n",
        "  else:\n",
        "    break\n",
        "\n",
        "#Gauss Siedel Method\n",
        "x=np.zeros((N-1,1))\n",
        "xnew=np.zeros((N-1,1))\n",
        "for k in range(1000):\n",
        "  for i in range(N-1):\n",
        "    xnew[i]=np.dot(d[i],b-np.dot(EF[i],x))\n",
        "  err=LA.norm(xnew-x)\n",
        "  if err>10**-6:\n",
        "    x=xnew      \n",
        "  else:\n",
        "    break\n",
        "\n",
        "print('N:',N)\n",
        "print('Jacobi:',i)\n",
        "print('Gauss Siedel:',k)"
      ]
    },
    {
      "cell_type": "code",
      "metadata": {
        "id": "4WEFoCJmEnGC",
        "colab": {
          "base_uri": "https://localhost:8080/",
          "height": 52
        },
        "outputId": "638d3816-6e7a-4824-b72e-8c715ff18f19"
      },
      "source": [
        "import math \n",
        "import numpy as np \n",
        "from numpy import linalg as LA\n",
        "\n",
        "a=100 \n",
        "N=10\n",
        "#N=100\n",
        "A=np.zeros((N-1,N-1))\n",
        "b=np.zeros((N-1,1))\n",
        "\n",
        "for i in range(N-1): \n",
        "  b[i]=(i/N)*math.sin(math.pi/N) \n",
        "  for j in range(N-1): \n",
        "    if i==j:\n",
        "      A[i,j]=a+2*N**2 \n",
        "    elif abs(i-j)==1:\n",
        "      A[i,j]=-N**2 \n",
        "D=np.diag(np.diag(A)) \n",
        "d=LA.inv(D) \n",
        "EF=A-D\n",
        "\n",
        "#Jacobi method\n",
        "x=np.zeros((N-1,1)) \n",
        "for i in range(1000):\n",
        "   xj=np.dot(d,b-np.dot(EF,x)) \n",
        "   err=LA.norm(xnew-x) \n",
        "   if err>10**-6: x=xnew\n",
        "   else:\n",
        "      break\n",
        "      \n",
        "print('N:',N) \n",
        "print('Jacobi:',i) \n",
        "\n"
      ],
      "execution_count": null,
      "outputs": [
        {
          "output_type": "stream",
          "text": [
            "N: 10\n",
            "Jacobi: 1\n"
          ],
          "name": "stdout"
        }
      ]
    },
    {
      "cell_type": "code",
      "metadata": {
        "id": "1SeE54R1FGGx"
      },
      "source": [
        "#Gauss Siedel Method\n",
        "x=np.zeros((N-1,1)) \n",
        "xnew=np.zeros((N-1,1)) \n",
        "for k in range(1000):\n",
        "   for i in range(N-1):\n",
        "      xnew[i]=np.dot(d[i],b-np.dot(EF[i],x))\n",
        "      err=LA.norm(xnew-x)\n",
        "      if err>10**-6: \n",
        "        x=xnew\n",
        "      else:\n",
        "        break\n",
        "\n",
        "print('N:',N) \n",
        "print('Gauss Siedel:',k)"
      ],
      "execution_count": null,
      "outputs": []
    }
  ]
}